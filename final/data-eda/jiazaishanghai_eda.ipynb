{
 "cells": [
  {
   "cell_type": "code",
   "execution_count": 218,
   "id": "responsible-beatles",
   "metadata": {},
   "outputs": [],
   "source": [
    "import pandas as pd\n",
    "import numpy as np"
   ]
  },
  {
   "cell_type": "code",
   "execution_count": 235,
   "id": "unexpected-sleeve",
   "metadata": {},
   "outputs": [],
   "source": [
    "df = pd.read_csv('./1-pandas_in/jiazaishanghai.csv')"
   ]
  },
  {
   "cell_type": "code",
   "execution_count": 220,
   "id": "equal-wales",
   "metadata": {},
   "outputs": [
    {
     "data": {
      "text/plain": [
       "(17204, 13)"
      ]
     },
     "execution_count": 220,
     "metadata": {},
     "output_type": "execute_result"
    }
   ],
   "source": [
    "df.shape\n",
    "\n",
    "# 17,204 rows"
   ]
  },
  {
   "cell_type": "code",
   "execution_count": 221,
   "id": "welsh-albuquerque",
   "metadata": {},
   "outputs": [
    {
     "data": {
      "text/plain": [
       "array(['住宅', '工作室', '商用', '住宅/工作室', '商铺', nan, '写字楼', '厂房/仓库'],\n",
       "      dtype=object)"
      ]
     },
     "execution_count": 221,
     "metadata": {},
     "output_type": "execute_result"
    }
   ],
   "source": [
    "df['use_type'].unique()"
   ]
  },
  {
   "cell_type": "code",
   "execution_count": 222,
   "id": "single-folder",
   "metadata": {},
   "outputs": [],
   "source": [
    "# remove all use types except residential, residential/work space, and not specified\n",
    "\n",
    "df.drop(df.loc[df['use_type'] =='工作室'].index, inplace=True)\n",
    "df.drop(df.loc[df['use_type'] =='商用'].index, inplace=True)\n",
    "df.drop(df.loc[df['use_type'] =='商铺'].index, inplace=True)\n",
    "df.drop(df.loc[df['use_type'] =='写字楼'].index, inplace=True)\n",
    "df.drop(df.loc[df['use_type'] =='厂房/仓库'].index, inplace=True)"
   ]
  },
  {
   "cell_type": "code",
   "execution_count": 223,
   "id": "curious-husband",
   "metadata": {},
   "outputs": [
    {
     "data": {
      "text/plain": [
       "array(['住宅', '住宅/工作室', nan], dtype=object)"
      ]
     },
     "execution_count": 223,
     "metadata": {},
     "output_type": "execute_result"
    }
   ],
   "source": [
    "df['use_type'].unique()"
   ]
  },
  {
   "cell_type": "code",
   "execution_count": 224,
   "id": "structural-western",
   "metadata": {},
   "outputs": [
    {
     "data": {
      "text/plain": [
       "(16776, 13)"
      ]
     },
     "execution_count": 224,
     "metadata": {},
     "output_type": "execute_result"
    }
   ],
   "source": [
    "df.shape\n",
    "\n",
    "# 16,776 rows"
   ]
  },
  {
   "cell_type": "code",
   "execution_count": 225,
   "id": "usual-membership",
   "metadata": {},
   "outputs": [
    {
     "data": {
      "text/plain": [
       "array(['新公寓', '老公寓', '新式里弄', '老洋房', '老公房', nan, '别墅'], dtype=object)"
      ]
     },
     "execution_count": 225,
     "metadata": {},
     "output_type": "execute_result"
    }
   ],
   "source": [
    "df['building_type'].unique()"
   ]
  },
  {
   "cell_type": "code",
   "execution_count": 226,
   "id": "endless-tolerance",
   "metadata": {},
   "outputs": [],
   "source": [
    "# remove all building types except for detached lane house, attached lane house, public apt, and villa\n",
    "\n",
    "df.drop(df.loc[df['building_type'] == '新公寓'].index, inplace=True)\n",
    "df.drop(df.loc[df['building_type'] == '老公寓'].index, inplace=True)"
   ]
  },
  {
   "cell_type": "code",
   "execution_count": 227,
   "id": "affecting-valuation",
   "metadata": {},
   "outputs": [
    {
     "data": {
      "text/plain": [
       "(6731, 13)"
      ]
     },
     "execution_count": 227,
     "metadata": {},
     "output_type": "execute_result"
    }
   ],
   "source": [
    "df.shape\n",
    "\n",
    "# 6,6731 rows"
   ]
  },
  {
   "cell_type": "code",
   "execution_count": 228,
   "id": "collectible-mapping",
   "metadata": {},
   "outputs": [],
   "source": [
    "# remove unncessary part of address\n",
    "\n",
    "df['address'] = df['address'].map(lambda x: x.replace('家在上海',''))"
   ]
  },
  {
   "cell_type": "code",
   "execution_count": 229,
   "id": "spiritual-israel",
   "metadata": {},
   "outputs": [],
   "source": [
    "# keep the first (most recent) occurance of an address -- should be the lowest, most recent rent change for that address\n",
    "\n",
    "df.drop_duplicates(subset=('address'),inplace=True)"
   ]
  },
  {
   "cell_type": "code",
   "execution_count": 230,
   "id": "presidential-rebel",
   "metadata": {},
   "outputs": [
    {
     "data": {
      "text/plain": [
       "(4765, 13)"
      ]
     },
     "execution_count": 230,
     "metadata": {},
     "output_type": "execute_result"
    }
   ],
   "source": [
    "df.shape\n",
    "\n",
    "# 4,765 rows"
   ]
  },
  {
   "cell_type": "code",
   "execution_count": 231,
   "id": "waiting-rebel",
   "metadata": {},
   "outputs": [
    {
     "data": {
      "text/plain": [
       "4        永康路37弄32号二楼朝南间\n",
       "27           建国西路56弄35号\n",
       "34          五原路87弄9号102\n",
       "35           宛平路6弄3号101\n",
       "36        建国西路384弄1号福禄邨\n",
       "              ...      \n",
       "17192              金桂苑路\n",
       "17193              锦汇苑路\n",
       "17195             乾骏大厦路\n",
       "17198             金浦大楼路\n",
       "17203            康健路51弄\n",
       "Name: address, Length: 4765, dtype: object"
      ]
     },
     "execution_count": 231,
     "metadata": {},
     "output_type": "execute_result"
    }
   ],
   "source": [
    "df['address']"
   ]
  },
  {
   "cell_type": "code",
   "execution_count": 232,
   "id": "forty-notification",
   "metadata": {},
   "outputs": [],
   "source": [
    "# remove unnecessary parts of address\n",
    "\n",
    "def hao(x):\n",
    "    '''\n",
    "    looks at address 'x'\n",
    "    splits the address at the street number\n",
    "    then adds the separator back on\n",
    "    \n",
    "    if no street number just returns original address\n",
    "    as list\n",
    "    '''\n",
    "    \n",
    "    sep = '号'\n",
    "    if sep in x:\n",
    "        return [x+sep for x in x.split(sep)]\n",
    "    else:\n",
    "        return [x]"
   ]
  },
  {
   "cell_type": "code",
   "execution_count": 233,
   "id": "burning-chile",
   "metadata": {},
   "outputs": [],
   "source": [
    "# use function\n",
    "\n",
    "df['address_translate'] = df['address'].map(lambda x: hao(x))"
   ]
  },
  {
   "cell_type": "code",
   "execution_count": 234,
   "id": "tough-slovenia",
   "metadata": {},
   "outputs": [],
   "source": [
    "# grab the first part of address that we want\n",
    "\n",
    "df['address_translate'] = df['address_translate'].map(lambda x: str(x[0]))"
   ]
  },
  {
   "cell_type": "code",
   "execution_count": 188,
   "id": "hybrid-pilot",
   "metadata": {},
   "outputs": [
    {
     "data": {
      "text/html": [
       "<div>\n",
       "<style scoped>\n",
       "    .dataframe tbody tr th:only-of-type {\n",
       "        vertical-align: middle;\n",
       "    }\n",
       "\n",
       "    .dataframe tbody tr th {\n",
       "        vertical-align: top;\n",
       "    }\n",
       "\n",
       "    .dataframe thead th {\n",
       "        text-align: right;\n",
       "    }\n",
       "</style>\n",
       "<table border=\"1\" class=\"dataframe\">\n",
       "  <thead>\n",
       "    <tr style=\"text-align: right;\">\n",
       "      <th></th>\n",
       "      <th>address_translate</th>\n",
       "    </tr>\n",
       "  </thead>\n",
       "  <tbody>\n",
       "    <tr>\n",
       "      <th>4</th>\n",
       "      <td>永康路37弄32号</td>\n",
       "    </tr>\n",
       "    <tr>\n",
       "      <th>27</th>\n",
       "      <td>建国西路56弄35号</td>\n",
       "    </tr>\n",
       "    <tr>\n",
       "      <th>34</th>\n",
       "      <td>五原路87弄9号</td>\n",
       "    </tr>\n",
       "    <tr>\n",
       "      <th>35</th>\n",
       "      <td>宛平路6弄3号</td>\n",
       "    </tr>\n",
       "    <tr>\n",
       "      <th>36</th>\n",
       "      <td>建国西路384弄1号</td>\n",
       "    </tr>\n",
       "    <tr>\n",
       "      <th>...</th>\n",
       "      <td>...</td>\n",
       "    </tr>\n",
       "    <tr>\n",
       "      <th>17192</th>\n",
       "      <td>金桂苑路</td>\n",
       "    </tr>\n",
       "    <tr>\n",
       "      <th>17193</th>\n",
       "      <td>锦汇苑路</td>\n",
       "    </tr>\n",
       "    <tr>\n",
       "      <th>17195</th>\n",
       "      <td>乾骏大厦路</td>\n",
       "    </tr>\n",
       "    <tr>\n",
       "      <th>17198</th>\n",
       "      <td>金浦大楼路</td>\n",
       "    </tr>\n",
       "    <tr>\n",
       "      <th>17203</th>\n",
       "      <td>康健路51弄</td>\n",
       "    </tr>\n",
       "  </tbody>\n",
       "</table>\n",
       "<p>4765 rows × 1 columns</p>\n",
       "</div>"
      ],
      "text/plain": [
       "      address_translate\n",
       "4             永康路37弄32号\n",
       "27           建国西路56弄35号\n",
       "34             五原路87弄9号\n",
       "35              宛平路6弄3号\n",
       "36           建国西路384弄1号\n",
       "...                 ...\n",
       "17192              金桂苑路\n",
       "17193              锦汇苑路\n",
       "17195             乾骏大厦路\n",
       "17198             金浦大楼路\n",
       "17203            康健路51弄\n",
       "\n",
       "[4765 rows x 1 columns]"
      ]
     },
     "execution_count": 188,
     "metadata": {},
     "output_type": "execute_result"
    }
   ],
   "source": [
    "# check result\n",
    "\n",
    "df[['address_translate']]"
   ]
  },
  {
   "cell_type": "code",
   "execution_count": 191,
   "id": "successful-leeds",
   "metadata": {},
   "outputs": [],
   "source": [
    "# delete this specific row without an address\n",
    "\n",
    "df.drop(df.loc[df['address']=='没有地址'].index,inplace=True)"
   ]
  },
  {
   "cell_type": "code",
   "execution_count": 192,
   "id": "sunset-chemistry",
   "metadata": {},
   "outputs": [
    {
     "data": {
      "text/plain": [
       "(4764, 14)"
      ]
     },
     "execution_count": 192,
     "metadata": {},
     "output_type": "execute_result"
    }
   ],
   "source": [
    "df.shape"
   ]
  },
  {
   "cell_type": "code",
   "execution_count": 189,
   "id": "representative-express",
   "metadata": {},
   "outputs": [],
   "source": [
    "# df.to_csv('./2-pandas_out-sheets_in/jiazaishanghai_sheets.csv')"
   ]
  },
  {
   "cell_type": "code",
   "execution_count": 518,
   "id": "wired-airport",
   "metadata": {},
   "outputs": [],
   "source": [
    "df2 = pd.read_csv('./3-sheets_out/jiazaishanghai_sheets_eda_cleaner.csv')"
   ]
  },
  {
   "cell_type": "code",
   "execution_count": 519,
   "id": "nominated-manhattan",
   "metadata": {},
   "outputs": [
    {
     "data": {
      "text/plain": [
       "(3964, 36)"
      ]
     },
     "execution_count": 519,
     "metadata": {},
     "output_type": "execute_result"
    }
   ],
   "source": [
    "df2.shape\n",
    "\n",
    "# 3,964 rows"
   ]
  },
  {
   "cell_type": "code",
   "execution_count": 520,
   "id": "aerial-investment",
   "metadata": {},
   "outputs": [
    {
     "data": {
      "text/plain": [
       "Index(['original_index', 'rental_period_del', 'floor_del', 'not_lane_del',\n",
       "       'neighborhood', 'complex_name', 'city', 'district', 'address',\n",
       "       'district_del', 'city_del', 'rent', 'bedrooms', 'living-dining',\n",
       "       'bathrooms', 'loft', 'descript', 'sqmeters', 'entire_building',\n",
       "       'use_type', 'use_type_en', 'building_type', 'public_housing',\n",
       "       'detatched_lanehouse', 'attached_lanehouse', 'villa', 'type_not_listed',\n",
       "       'amenities', 'heat', 'ac', 'balcony', 'WIFI', 'outdoor_space',\n",
       "       'bathtub', 'floor_heat', 'oven'],\n",
       "      dtype='object')"
      ]
     },
     "execution_count": 520,
     "metadata": {},
     "output_type": "execute_result"
    }
   ],
   "source": [
    "df2.columns"
   ]
  },
  {
   "cell_type": "code",
   "execution_count": 521,
   "id": "advanced-scratch",
   "metadata": {},
   "outputs": [],
   "source": [
    "# drop unneeded working columns from sheets\n",
    "\n",
    "df2.drop(columns=['district_del','city_del','rental_period_del','floor_del','use_type','not_lane_del'],axis=1,inplace=True)"
   ]
  },
  {
   "cell_type": "code",
   "execution_count": 522,
   "id": "activated-ethiopia",
   "metadata": {},
   "outputs": [],
   "source": [
    "# drop rows with null values in the following fields:\n",
    "\n",
    "df2.dropna(subset=['amenities','descript','building_type'], inplace=True)"
   ]
  },
  {
   "cell_type": "code",
   "execution_count": 523,
   "id": "skilled-electricity",
   "metadata": {},
   "outputs": [],
   "source": [
    "# drop extremely low rent amounts that don't make sense, and low rent amounts with high bedroom count\n",
    "\n",
    "df2.drop(df2.loc[(df2['rent'] < 2500)].index,inplace=True)\n",
    "df2.drop(df2.loc[(df2['rent'] < 3000) & (df2['bedrooms'] >= 2)].index,inplace=True) \n",
    "df2.drop(df2.loc[((df2['rent'] > 3000) & (df2['rent'] < 5000)) & (df2['bedrooms'] > 2)].index, inplace=True)\n",
    "\n",
    "# drop low rents that claim to be entire buildings\n",
    "df2.drop(df2.loc[(df2['rent'] < 10000) & (df2['entire_building'] == 1)].index, inplace=True)"
   ]
  },
  {
   "cell_type": "code",
   "execution_count": 524,
   "id": "unlimited-athletics",
   "metadata": {},
   "outputs": [],
   "source": [
    "# drop extremely high rent amounts, and high rent amounts that do not list as entire building\n",
    "\n",
    "df2.drop(df2.loc[(df2['rent'] > 100000 ) & (df2['bedrooms'] < 4)].index,inplace=True)\n",
    "df2.drop(df2.loc[(df2['rent'] > 200000 ) & (df2['entire_building'] == 0)].index,inplace=True)"
   ]
  },
  {
   "cell_type": "code",
   "execution_count": 529,
   "id": "needed-simulation",
   "metadata": {},
   "outputs": [],
   "source": [
    "df2.drop(df2.loc[df2['sqmeters'] > 600].index,inplace=True)\n",
    "df2.drop(df2.loc[df2['sqmeters'] == 0].index,inplace=True)"
   ]
  },
  {
   "cell_type": "code",
   "execution_count": 536,
   "id": "genetic-lender",
   "metadata": {},
   "outputs": [
    {
     "data": {
      "text/plain": [
       "(2656, 30)"
      ]
     },
     "execution_count": 536,
     "metadata": {},
     "output_type": "execute_result"
    }
   ],
   "source": [
    "df2.shape\n",
    "\n",
    "#2,656 rows"
   ]
  },
  {
   "cell_type": "code",
   "execution_count": 537,
   "id": "israeli-speech",
   "metadata": {},
   "outputs": [],
   "source": [
    "df2.sort_values(['rent'],ascending=True,inplace=True)"
   ]
  },
  {
   "cell_type": "code",
   "execution_count": 538,
   "id": "mathematical-facial",
   "metadata": {},
   "outputs": [],
   "source": [
    "# drop dups, keep lowest rent\n",
    "\n",
    "df2.drop_duplicates(subset=['address','descript','bedrooms','bathrooms'],inplace=True)\n",
    "df2.drop_duplicates(subset=['address','descript','rent'],inplace=True)"
   ]
  },
  {
   "cell_type": "code",
   "execution_count": 539,
   "id": "ongoing-karaoke",
   "metadata": {},
   "outputs": [
    {
     "data": {
      "text/plain": [
       "(2608, 30)"
      ]
     },
     "execution_count": 539,
     "metadata": {},
     "output_type": "execute_result"
    }
   ],
   "source": [
    "df2.shape\n",
    "\n",
    "# 2,608"
   ]
  },
  {
   "cell_type": "code",
   "execution_count": 540,
   "id": "pleased-memorabilia",
   "metadata": {},
   "outputs": [],
   "source": [
    "df2['total_amens'] = df2[['heat','ac','balcony','WIFI','outdoor_space','bathtub','floor_heat','oven']].sum(axis=1)"
   ]
  },
  {
   "cell_type": "code",
   "execution_count": 541,
   "id": "governmental-latitude",
   "metadata": {},
   "outputs": [],
   "source": [
    "df_geocode = df2[['city','district','address']]\n",
    "df_geocode.to_csv('./2-pandas_out-sheets_in/to_geocode_jiazaishanghai_sheets_eda_cleaner_deduped.csv',index=False)"
   ]
  },
  {
   "cell_type": "code",
   "execution_count": 542,
   "id": "proud-metabolism",
   "metadata": {},
   "outputs": [
    {
     "data": {
      "text/plain": [
       "Index(['original_index', 'neighborhood', 'complex_name', 'city', 'district',\n",
       "       'address', 'rent', 'bedrooms', 'living-dining', 'bathrooms', 'loft',\n",
       "       'descript', 'sqmeters', 'entire_building', 'use_type_en',\n",
       "       'building_type', 'public_housing', 'detatched_lanehouse',\n",
       "       'attached_lanehouse', 'villa', 'type_not_listed', 'amenities', 'heat',\n",
       "       'ac', 'balcony', 'WIFI', 'outdoor_space', 'bathtub', 'floor_heat',\n",
       "       'oven', 'total_amens'],\n",
       "      dtype='object')"
      ]
     },
     "execution_count": 542,
     "metadata": {},
     "output_type": "execute_result"
    }
   ],
   "source": [
    "df2.columns"
   ]
  },
  {
   "cell_type": "code",
   "execution_count": 553,
   "id": "secure-vanilla",
   "metadata": {},
   "outputs": [
    {
     "data": {
      "text/plain": [
       "新式里弄    926\n",
       "老洋房     905\n",
       "老公房     674\n",
       "别墅      103\n",
       "Name: building_type, dtype: int64"
      ]
     },
     "execution_count": 553,
     "metadata": {},
     "output_type": "execute_result"
    }
   ],
   "source": [
    "df2.building_type.value_counts()"
   ]
  },
  {
   "cell_type": "code",
   "execution_count": 554,
   "id": "missing-roller",
   "metadata": {},
   "outputs": [],
   "source": [
    "df_working = df2[['district', 'address', 'rent', 'bedrooms', 'living-dining', 'bathrooms','loft', 'sqmeters', 'entire_building',\n",
    "                  'building_type','use_type_en',\n",
    "                  'heat', 'ac', 'balcony', 'WIFI','outdoor_space','bathtub','floor_heat','oven','total_amens']]"
   ]
  },
  {
   "cell_type": "code",
   "execution_count": 555,
   "id": "tender-coalition",
   "metadata": {},
   "outputs": [],
   "source": [
    "district_map = {'嘉定区':'Jiading',\n",
    "                '宝山区':'Baoshan',\n",
    "                '徐汇区':'Xuhui',\n",
    "                '普陀区':'Putuo',\n",
    "                '杨浦区':'Yangpu',\n",
    "                '浦东区':'Pudong',\n",
    "                '虹口区':'Hongkou',\n",
    "                '长宁区':'Changning',\n",
    "                '闵行区':'Minhang',\n",
    "                '闸北区':'Zhabei',\n",
    "                '青浦区':'Qingpu',\n",
    "                '静安区':\"Jing'an\",\n",
    "                '黄浦区':'Huangpu'}"
   ]
  },
  {
   "cell_type": "code",
   "execution_count": 556,
   "id": "explicit-sheriff",
   "metadata": {},
   "outputs": [],
   "source": [
    "building_map = {'老洋房':'detached lane house','新式里弄': 'attached lane house','别墅':'villa','老公房':'public housing'}"
   ]
  },
  {
   "cell_type": "code",
   "execution_count": 557,
   "id": "binding-norman",
   "metadata": {
    "tags": []
   },
   "outputs": [
    {
     "name": "stderr",
     "output_type": "stream",
     "text": [
      "<ipython-input-557-20a619c783bc>:1: SettingWithCopyWarning: \n",
      "A value is trying to be set on a copy of a slice from a DataFrame.\n",
      "Try using .loc[row_indexer,col_indexer] = value instead\n",
      "\n",
      "See the caveats in the documentation: https://pandas.pydata.org/pandas-docs/stable/user_guide/indexing.html#returning-a-view-versus-a-copy\n",
      "  df_working['district'] = df_working['district'].map(district_map)\n",
      "<ipython-input-557-20a619c783bc>:2: SettingWithCopyWarning: \n",
      "A value is trying to be set on a copy of a slice from a DataFrame.\n",
      "Try using .loc[row_indexer,col_indexer] = value instead\n",
      "\n",
      "See the caveats in the documentation: https://pandas.pydata.org/pandas-docs/stable/user_guide/indexing.html#returning-a-view-versus-a-copy\n",
      "  df_working['building_type'] = df_working['building_type'].map(building_map)\n"
     ]
    }
   ],
   "source": [
    "df_working['district'] = df_working['district'].map(district_map)\n",
    "df_working['building_type'] = df_working['building_type'].map(building_map)"
   ]
  },
  {
   "cell_type": "code",
   "execution_count": 560,
   "id": "considered-piano",
   "metadata": {},
   "outputs": [
    {
     "data": {
      "text/plain": [
       "Xuhui        1132\n",
       "Huangpu       541\n",
       "Jing'an       512\n",
       "Changning     233\n",
       "Pudong         86\n",
       "Putuo          31\n",
       "Minhang        25\n",
       "Qingpu         20\n",
       "Baoshan         8\n",
       "Hongkou         5\n",
       "Zhabei          4\n",
       "Yangpu          3\n",
       "Jiading         2\n",
       "Name: district, dtype: int64"
      ]
     },
     "execution_count": 560,
     "metadata": {},
     "output_type": "execute_result"
    }
   ],
   "source": [
    "df_working.district.value_counts()"
   ]
  },
  {
   "cell_type": "code",
   "execution_count": 559,
   "id": "expired-placement",
   "metadata": {},
   "outputs": [],
   "source": [
    "df_working.to_csv('./2-pandas_out-sheets_in/for_tableau.csv',index=False)"
   ]
  }
 ],
 "metadata": {
  "kernelspec": {
   "display_name": "Python [conda env:metis] *",
   "language": "python",
   "name": "conda-env-metis-py"
  },
  "language_info": {
   "codemirror_mode": {
    "name": "ipython",
    "version": 3
   },
   "file_extension": ".py",
   "mimetype": "text/x-python",
   "name": "python",
   "nbconvert_exporter": "python",
   "pygments_lexer": "ipython3",
   "version": "3.8.8"
  }
 },
 "nbformat": 4,
 "nbformat_minor": 5
}
